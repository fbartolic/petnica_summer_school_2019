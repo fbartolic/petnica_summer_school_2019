{
 "cells": [
  {
   "cell_type": "code",
   "execution_count": 1,
   "metadata": {},
   "outputs": [],
   "source": [
    "import rebound\n",
    "import numpy as np \n",
    "from matplotlib import pyplot as plt\n",
    "\n",
    "# To render plots inside the Jupyter notebook\n",
    "%matplotlib inline\n",
    "\n",
    "%config InlineBackend.figure_format = 'retina'"
   ]
  },
  {
   "cell_type": "markdown",
   "metadata": {},
   "source": [
    "![](https://upload.wikimedia.org/wikipedia/commons/thumb/0/05/Planets_in_binary_star_systems_-_P-_and_S-type.svg/440px-Planets_in_binary_star_systems_-_P-_and_S-type.svg.png)"
   ]
  },
  {
   "cell_type": "markdown",
   "metadata": {},
   "source": [
    "Besides exoplanets orbiting single stars, we also find planets in binary star systems. \n",
    "We can classify these planets into two two categories:\n",
    "- *S-type* or *circumprimary* systems where the planet orbits one of the two binary stars\n",
    "- *P-type* o *circumbinary* systems where the planet's orbit encompasses both stars\n",
    "\n",
    "Both types of systems are dynamically very interesting because the mass ratio of the two binary stars is much higher \n",
    "than that of typical planet orbiting a single star. These systems\n",
    "also provide a testbed theories of planet formation since it is more challenging to form planets in \n",
    "protoplanetary discs warped by a companion star.\n",
    "\n",
    "The stars in circumbinary systems orbit on very close orbits with periods on the order of tens of\n",
    "days. Intuitively, the closer a P-type orbit is to the orbit of the binary,\n",
    "the greater the chance of an interaction with one of the stars. Conversely, \n",
    "if the planet is very far away from the binary, it experiences\n",
    "gravitational forces as if the binary was a single star with a small\n",
    "gravitational quadropole moment so we expect the dynamics to be similar to that\n",
    "of regular exoplanets.\n",
    "\n",
    "For both P and S type  systems the most interesting physics happens when \n",
    "planets are close to unstable zones. These systems\n",
    "pose significant challenges for planet formation theories. Planets can form\n",
    "in S-type systems if protoplanetary disks form around both of the stars, \n",
    "the effect of the gravitational interaction between the two stars is \n",
    "to truncate the disks at a certain orbital radius \n",
    "If the disk is truncated too close to the star where icy dust grains cannot\n",
    "form this might hinder or prevent giant planet formation in \n",
    "the core accretion scenario.\n",
    "\n",
    "In this exercise, we'll focus on [circumbinary planets](https://en.wikipedia.org/wiki/Tatooine).\n",
    "Today, we know of about two dozen or so circumbinary exoplanets, most of which \n",
    "were discovered with the transit method using the Kepler space telescope. A particulary famous example is \n",
    "[Kepler 16b](http://www.openexoplanetcatalogue.com/planet/Kepler-16%20%28AB%29%20b/), a Saturn\n",
    "mass planet orbiting a main sequence binary star Kepler 16 with a period of 229 days.\n",
    "Kepler 16 is located at the very edge of the so called instability zone described in a paper\n",
    "by [Holman & Wiegert 1998](https://arxiv.org/abs/astro-ph/9809315). \n",
    "The instability zone is cause by the overlap of multiple strong [mean\n",
    "motion resonances](https://arxiv.org/abs/astro-ph/0511710). \n",
    "\n",
    "Instead of simulating the dynamics of Kepler 16b directly, we'll explore the orbital\n",
    "parameter space around the binary star using a scalar \n",
    "measure of [chaos](https://en.wikipedia.org/wiki/Chaos_theory)\n",
    "called the Mean Exponential Growth of Nearby Orbits (MEGNO). \n",
    "The three body problem is intrinsically chaotic, this means that phase space trajectories\n",
    "of in time of a given system are very sensitive to the initial conditions. \n",
    "The idea behind various chaos indicators such as the \n",
    "[Lyapunov exponent](https://en.wikipedia.org/wiki/Lyapunov_exponent) and MEGNO is to measure\n",
    "the exponential rate of divergence between two infinitesimally different trajectories as a proxy for chaos.\n",
    "In other words, if you start with a planetary system with given initial orbital elements, perturb it\n",
    "ever so slighlty and find that that the evolution of the system changes completely, the system\n",
    "is likely to be chaotic and therefore also unstable. \n",
    "\n",
    "Numerically, the MEGNO is computed by integrating the [variational equations](https://arxiv.org/abs/1603.03424)\n",
    "for some time. In the case of chaotic orbits, the value of a MEGNO indicator\n",
    "will grow linearly in time and for quasi-periodic orbits it will tend to 2. \n",
    "The relationship between chaotic orbits (high MEGNO) and stability of a system is not straightforward. A system is deemed stable for\n",
    "a certain time if there are no close encounters between any two bodies\n",
    "in the system leading to hyperbolic orbits. Chaotic trajectories need\n",
    "not lead to ejections because the chaos might be bounded. Bounded\n",
    "chaos means that even if at a certain point in phase space we have exponentially diverging trajectories, the trajectories are still bounded to\n",
    "a certain finite volume of phase space. Thus, high MEGNO values can\n",
    "only be used as a proxy for instability.\n",
    "\n",
    "### Exercises\n",
    "1. Adapt [this example](https://rebound.readthedocs.io/en/latest/ipython/Megno.html)\n",
    "of creating a map of MEGNO values in period--eccentricity (instead of semi-major axis-eccentricity)\n",
    "to the case of the Kepler-16 system. \n",
    "The binary period is $P_{bin}=0.1123$ years and the eccentricity is $e_{bin}=0.16$. Use an initial grid which spans the range\n",
    "$[0, 0.3]$ in eccentricity and $[4P_{bin}, 7P_{bin}]$.\n",
    "What kind of structure do you see? Try increasing the resolution of the map or exploring a smaller subset of the\n",
    "parameter space to see finer detail. What happens to the extent of the chaotic zone if you increase the eccentricity\n",
    "of the binary?\n",
    "2. Test whether the orbits in the regions of parameter space with large values of MEGNO are unstable by integrating\n",
    "a planet with the mass of Kepler 16b for some time using `mercurius`."
   ]
  },
  {
   "cell_type": "code",
   "execution_count": null,
   "metadata": {},
   "outputs": [],
   "source": [
    "# Your code goes here"
   ]
  }
 ],
 "metadata": {
  "kernelspec": {
   "display_name": "Python 3",
   "language": "python",
   "name": "python3"
  },
  "language_info": {
   "codemirror_mode": {
    "name": "ipython",
    "version": 3
   },
   "file_extension": ".py",
   "mimetype": "text/x-python",
   "name": "python",
   "nbconvert_exporter": "python",
   "pygments_lexer": "ipython3",
   "version": "3.6.8"
  }
 },
 "nbformat": 4,
 "nbformat_minor": 4
}
