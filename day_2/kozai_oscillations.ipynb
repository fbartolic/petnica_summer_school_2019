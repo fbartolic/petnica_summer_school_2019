{
 "cells": [
  {
   "cell_type": "code",
   "execution_count": null,
   "metadata": {},
   "outputs": [],
   "source": [
    "import numpy as np \n",
    "from matplotlib import pyplot as plt\n",
    "\n",
    "# To render plots inside the Jupyter notebook\n",
    "%matplotlib inline\n",
    "\n",
    "%config InlineBackend.figure_format = 'retina'"
   ]
  },
  {
   "cell_type": "markdown",
   "metadata": {},
   "source": [
    "The [Kozai mechanicsm](https://en.wikipedia.org/wiki/Kozai_mechanism) or the *Lidov-Kozai* \n",
    "mechanism is a phenomenon in hierarchical triple systems in which a distant inclined perturber modifies\n",
    "the orbit of an inner binary. \n",
    "If we work in Jacobi coordinates, we have **3 bodies** and **two interacting orbits**.\n",
    "We denote the semi-major axis of the inner orbit by $a_1$ and the semi-major axis of the outer\n",
    "orbit (the perturber) with respect to the centre of mass of the inner binary by $a_2$. \n",
    "The energy of each orbit $E=-Gm_1m_2/a$ is a approximately conserved for each of the\n",
    "two orbits but the system evolves by angular momentum exchange between the two orbits.\n",
    "Kozai (1962) showed that if you write down the Hamiltonian for this 3-body problem\n",
    "under the assumption that the second body is a massless test particle \n",
    "and expand it into a series to 2nd order in the semi-major axis ratio $(a_1/a_2)$ (which\n",
    "is small because the perturber is distant); the inner test particle's eccentricity and\n",
    "inclination will oscillate on timescales much longer than the orbital timescales if the\n",
    "mutual inclination of the two orbits is greater than $39.2^\\circ$.\n",
    "The Kozai mechanics is seen all over astrophysics, it explains the inclination distribution of Jupiter's\n",
    "irregular satellites and Kuiper belt objects, it is one of the mechanisms enabling black hole mergers\n",
    "(implications for LIGO and gravitational wave detection) and it plays a role in sculpting a\n",
    "variety of exoplanet systems."
   ]
  },
  {
   "cell_type": "markdown",
   "metadata": {},
   "source": [
    "# Case 1: one of the two inner bodies is massless (test particle), circular perturber"
   ]
  },
  {
   "cell_type": "markdown",
   "metadata": {},
   "source": [
    "Let's first consider the case in the original paper by Kozai, where one of the inner two\n",
    "particles is massless and, the eccentricity of the perturber $e_2$ is zero and we're to\n",
    "quadropole order in eccentricity.\n",
    "Under these approximations, one can show that that the argument of pericentre of the inner body $\\omega_1$ \n",
    "librates (slowly varies) around either $0^\\circ$ or $180^\\circ$ and there is a conserved quantity\n",
    "$j_z=\\sqrt{1-e_1^2}\\cos (i_2-i_1)=\\mathrm{const.}$ which is the $z$ component of the first orbit's angular momentum projected onto the angular momentum of the 2nd orbit (the perturber). \n",
    "The conservation of this quantity implies that the eccentricity of the test particle and the relative\n",
    "inclination of the two orbits are coupled and they will oscillate."
   ]
  },
  {
   "cell_type": "markdown",
   "metadata": {},
   "source": [
    "### Exercises\n",
    "1. Set up a system with a test particle in an orbit of a solar mass star and a distant \n",
    "massive perturber (also solar mass) on an inclined orbit. Integrate the system for some timespan \n",
    "which is sufficient to observe the Kozai effect. Save the orbital elements at\n",
    "each time step.\n",
    "3. Explore the dependance of the eccentricity oscillations on the initial mutual inclination between\n",
    "the two orbits, you should see different behaviour of the orbits depending on wether\n",
    "the initial mutual inclination is greater than or less than about $40^\\circ$. What happens\n",
    "as the mutual inclination approaches $90^\\circ$?\n",
    "5. Plot the argument of pericentre $\\omega_1$ as a function of time, does it librate or oscillate? \n",
    "6. Check how your results change depending on wether you use the `whfast` or `mercurius` integrator. If they give\n",
    "different results, think about why that might happen."
   ]
  },
  {
   "cell_type": "code",
   "execution_count": null,
   "metadata": {},
   "outputs": [],
   "source": [
    "import rebound\n",
    "\n",
    "def simulate(inc, integrator, tmax):\n",
    "    \"\"\"\n",
    "    Runs a REBOUND simulation of a three body system consisting of a \n",
    "    a star, a test particle and an inclined perturber and plots the\n",
    "    relevant orbital parameters.\n",
    "    \n",
    "    Parameters\n",
    "    ----------\n",
    "    inc : float\n",
    "        Inclination of the distant perturber, in degrees.\n",
    "    integrator: str\n",
    "        The integrator to be used for the simulation. Choose between the \n",
    "        symplectic integrator 'whfast' and the hybrid integrator 'mercurius'.\n",
    "        whfast is much faster but doesn't handle close encounters properly.\n",
    "    tmax : float\n",
    "        Max integration time, in years.\n",
    "    \"\"\"\n",
    "    \n",
    "    # Initialize simulation, add the relevant bodies\n",
    "    \n",
    "    # Set timestep to 5% of inner orbital period\n",
    "\n",
    "    # Specify the integrator \n",
    "    sim.integrator = integrator\n",
    "\n",
    "    # Initialize the array of times at which we'll save the output\n",
    "\n",
    "    # Initialize empty arrays in which we'll store the orbital elements at each time step\n",
    "\n",
    "    # Iterate over all times in the array and integrate the system forward by dt\n",
    "            \n",
    "    # Plot the relevant orbital elements\n"
   ]
  },
  {
   "cell_type": "markdown",
   "metadata": {},
   "source": [
    "Let's simulate the system consisting of a test particle at 1 AU and a companion star at 10 AU at a low \n",
    "inclination of 20 degrees."
   ]
  },
  {
   "cell_type": "code",
   "execution_count": null,
   "metadata": {},
   "outputs": [],
   "source": [
    "# Call the `simulate` function\n",
    "simulate()"
   ]
  },
  {
   "cell_type": "markdown",
   "metadata": {},
   "source": [
    "Unsurprisingly, as soon as the eccentricity of the test particle starts approaching unity, the particle gets ejected."
   ]
  },
  {
   "cell_type": "markdown",
   "metadata": {},
   "source": [
    "# Case 2: Simulating the exoplanet HD 80606 b  "
   ]
  },
  {
   "cell_type": "markdown",
   "metadata": {},
   "source": [
    "The exoplanet [HD 80606](http://www.openexoplanetcatalogue.com/planet/HD%2080606%20b/)\n",
    "is a transiting Hot Jupiter with a mass four times that of Jupiter and an extremely eccentric ($e=0.9336$) and\n",
    "close-in ($a=0.453$ AU) orbit. \n",
    "The extremely eccentric orbit is thought to be a result of a distant inclined stellar companion driving \n",
    "the eccentricity through the Kozai effect. Indeed, the star HD 80606 is a binary star with the secondary \n",
    "orbiting the primary at around $a=1000$ AU. To test the plausibility of the Kozai hypothesis, we'll \n",
    "simulate the system using REBOUND.\n",
    "\n",
    "### Exercises:\n",
    "1. Set up a system with a $1 M_\\odot$ star, a mildly eccentric planet with mass $4M_{J}$ at 5 AU \n",
    "and a highly inclined distant stellar companion of mass $1.2 M\\odot$ at $\\sim 10000$ AU. Can you drive \n",
    "the eccentricity of the planet to near unity? (Hint: use the `whfast` integrator and integrate the system for\n",
    "a long time).\n",
    "2. The observed planet is at $\\sim 0.5$ AU, what physical mechanism can reduce the semi-major \n",
    "axis of the planet in combination with the Kozai effect to such low values? How can you simulate this\n",
    "mechanism with REBOUND?"
   ]
  },
  {
   "cell_type": "code",
   "execution_count": null,
   "metadata": {},
   "outputs": [],
   "source": [
    "sim = rebound.Simulation()\n",
    "\n",
    "m_jupiter = 0.000954265748 # solar masses\n",
    "\n",
    "# Set up the simulation"
   ]
  },
  {
   "cell_type": "code",
   "execution_count": null,
   "metadata": {},
   "outputs": [],
   "source": [
    "# Integrate the system for 10 million years, save the orbital parameters\n"
   ]
  },
  {
   "cell_type": "code",
   "execution_count": null,
   "metadata": {},
   "outputs": [],
   "source": [
    "# Make plots\n"
   ]
  }
 ],
 "metadata": {
  "kernelspec": {
   "display_name": "Python 3",
   "language": "python",
   "name": "python3"
  },
  "language_info": {
   "codemirror_mode": {
    "name": "ipython",
    "version": 3
   },
   "file_extension": ".py",
   "mimetype": "text/x-python",
   "name": "python",
   "nbconvert_exporter": "python",
   "pygments_lexer": "ipython3",
   "version": "3.6.8"
  }
 },
 "nbformat": 4,
 "nbformat_minor": 4
}
